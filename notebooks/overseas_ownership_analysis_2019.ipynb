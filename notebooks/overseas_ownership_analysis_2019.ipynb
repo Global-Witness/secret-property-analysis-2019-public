{
 "cells": [
  {
   "cell_type": "markdown",
   "metadata": {
    "hideCode": false,
    "hidePrompt": false
   },
   "source": [
    "This analysis uses Land Registry data accurate as of 1st January 2019. The dataset used is the [Overseas Companies Ownership dataset](https://www.gov.uk/guidance/hm-land-registry-overseas-companies-ownership-data), it is available free of charge from the Land Registry. It contians information on leaseholds and freeholds in England and Wales owned by non UK registered companies. A country is considered to be a secrecy jurisdiction if it has a secrecy score 60 or above in the [Tax Justice Network Financial Secrecy Index](https://www.financialsecrecyindex.com/). A list of the British crown dependencies and overseas territories can be found [here](https://en.wikipedia.org/wiki/Crown_dependencies) and [here](https://en.wikipedia.org/wiki/British_Overseas_Territories)."
   ]
  },
  {
   "cell_type": "markdown",
   "metadata": {
    "hideCode": false,
    "hidePrompt": false,
    "toc": "true"
   },
   "source": [
    "# Table of Contents\n",
    " <p><div class=\"lev1 toc-item\"><a href=\"#Data-preparation\" data-toc-modified-id=\"Data-preparation-1\"><span class=\"toc-item-num\">1&nbsp;&nbsp;</span>Data preparation</a></div><div class=\"lev1 toc-item\"><a href=\"#Analysis\" data-toc-modified-id=\"Analysis-2\"><span class=\"toc-item-num\">2&nbsp;&nbsp;</span>Analysis</a></div><div class=\"lev2 toc-item\"><a href=\"#Number-of-freeholds-and-leaseholds-owned-by-companies-incorporated-in-secrecy-jurisdictions\" data-toc-modified-id=\"Number-of-freeholds-and-leaseholds-owned-by-companies-incorporated-in-secrecy-jurisdictions-21\"><span class=\"toc-item-num\">2.1&nbsp;&nbsp;</span>Number of freeholds and leaseholds owned by companies incorporated in secrecy jurisdictions</a></div><div class=\"lev2 toc-item\"><a href=\"#Which-secrecy-jurisdictions-are-freeholds-and-leaseholds-most-commonly-purchased-with\" data-toc-modified-id=\"Which-secrecy-jurisdictions-are-freeholds-and-leaseholds-most-commonly-purchased-with-22\"><span class=\"toc-item-num\">2.2&nbsp;&nbsp;</span>Which secrecy jurisdictions are freeholds and leaseholds most commonly purchased with</a></div><div class=\"lev2 toc-item\"><a href=\"#Number-of-freeholds-and-leaseholds-owned-by-companies-in-the-overseas-territories-and-crown-dependencies\" data-toc-modified-id=\"Number-of-freeholds-and-leaseholds-owned-by-companies-in-the-overseas-territories-and-crown-dependencies-23\"><span class=\"toc-item-num\">2.3&nbsp;&nbsp;</span>Number of freeholds and leaseholds owned by companies in the overseas territories and crown dependencies</a></div><div class=\"lev3 toc-item\"><a href=\"#Crown-dependencies\" data-toc-modified-id=\"Crown-dependencies-231\"><span class=\"toc-item-num\">2.3.1&nbsp;&nbsp;</span>Crown dependencies</a></div><div class=\"lev3 toc-item\"><a href=\"#Overseas-territories\" data-toc-modified-id=\"Overseas-territories-232\"><span class=\"toc-item-num\">2.3.2&nbsp;&nbsp;</span>Overseas territories</a></div><div class=\"lev3 toc-item\"><a href=\"#Either-overseas-territories-or-crown-dependencies\" data-toc-modified-id=\"Either-overseas-territories-or-crown-dependencies-233\"><span class=\"toc-item-num\">2.3.3&nbsp;&nbsp;</span>Either overseas territories or crown dependencies</a></div><div class=\"lev2 toc-item\"><a href=\"#Percentage-of-secretly-owned-freeholds-or-leaseholds-owned-by-company-in-overseas-territory-or-crown-dependency\" data-toc-modified-id=\"Percentage-of-secretly-owned-freeholds-or-leaseholds-owned-by-company-in-overseas-territory-or-crown-dependency-24\"><span class=\"toc-item-num\">2.4&nbsp;&nbsp;</span>Percentage of secretly owned freeholds or leaseholds owned by company in overseas territory or crown dependency</a></div><div class=\"lev2 toc-item\"><a href=\"#Price-paid-for-leaseholds-and-properties\" data-toc-modified-id=\"Price-paid-for-leaseholds-and-properties-25\"><span class=\"toc-item-num\">2.5&nbsp;&nbsp;</span>Price paid for leaseholds and properties</a></div><div class=\"lev3 toc-item\"><a href=\"#Proportion-of-titles-with-price-paid-data\" data-toc-modified-id=\"Proportion-of-titles-with-price-paid-data-251\"><span class=\"toc-item-num\">2.5.1&nbsp;&nbsp;</span>Proportion of titles with price paid data</a></div><div class=\"lev3 toc-item\"><a href=\"#Total-rice-paid-for-leaseholds-and-freeholds-owned-by-companies-incorporated-in-secrecy-jurisdictions\" data-toc-modified-id=\"Total-rice-paid-for-leaseholds-and-freeholds-owned-by-companies-incorporated-in-secrecy-jurisdictions-252\"><span class=\"toc-item-num\">2.5.2&nbsp;&nbsp;</span>Total rice paid for leaseholds and freeholds owned by companies incorporated in secrecy jurisdictions</a></div><div class=\"lev3 toc-item\"><a href=\"#Price-paid-for-leaseholds-and-freeholds-owned-by-companies-incorporated-in-a-crown-dependency-or-overseas-territory-(in-GBP-and-using-only-those-titles-for-which-price-paid-data-is-available)\" data-toc-modified-id=\"Price-paid-for-leaseholds-and-freeholds-owned-by-companies-incorporated-in-a-crown-dependency-or-overseas-territory-(in-GBP-and-using-only-those-titles-for-which-price-paid-data-is-available)-253\"><span class=\"toc-item-num\">2.5.3&nbsp;&nbsp;</span>Price paid for leaseholds and freeholds owned by companies incorporated in a crown dependency or overseas territory (in GBP and using only those titles for which price paid data is available)</a></div><div class=\"lev3 toc-item\"><a href=\"#Additional-working-to-estimate-value-and-impute-misisng-data-for-leaseholds-and-freeholds-owned-by-companies-incorproated-in-secrecy-jurisdictions\" data-toc-modified-id=\"Additional-working-to-estimate-value-and-impute-misisng-data-for-leaseholds-and-freeholds-owned-by-companies-incorproated-in-secrecy-jurisdictions-254\"><span class=\"toc-item-num\">2.5.4&nbsp;&nbsp;</span>Additional working to estimate value and impute misisng data for leaseholds and freeholds owned by companies incorproated in secrecy jurisdictions</a></div><div class=\"lev2 toc-item\"><a href=\"#Count-number-of-freeholds-and-leaseholds-owned-by-secret-companies-by-region\" data-toc-modified-id=\"Count-number-of-freeholds-and-leaseholds-owned-by-secret-companies-by-region-26\"><span class=\"toc-item-num\">2.6&nbsp;&nbsp;</span>Count number of freeholds and leaseholds owned by secret companies by region</a></div><div class=\"lev2 toc-item\"><a href=\"#Count-freeholds-and-leaseholds-owned-by-companies-incorporated-in-secrecy-jurisdictions-by-district\" data-toc-modified-id=\"Count-freeholds-and-leaseholds-owned-by-companies-incorporated-in-secrecy-jurisdictions-by-district-27\"><span class=\"toc-item-num\">2.7&nbsp;&nbsp;</span>Count freeholds and leaseholds owned by companies incorporated in secrecy jurisdictions by district</a></div><div class=\"lev3 toc-item\"><a href=\"#Filter-data-for-only-leaseholds-and-freeholds-in-Greater-London-and-count-by-borough\" data-toc-modified-id=\"Filter-data-for-only-leaseholds-and-freeholds-in-Greater-London-and-count-by-borough-271\"><span class=\"toc-item-num\">2.7.1&nbsp;&nbsp;</span>Filter data for only leaseholds and freeholds in Greater London and count by borough</a></div><div class=\"lev4 toc-item\"><a href=\"#Proportion-of-secretly-owned-leaseholds-and-freeholds-in-London\" data-toc-modified-id=\"Proportion-of-secretly-owned-leaseholds-and-freeholds-in-London-2711\"><span class=\"toc-item-num\">2.7.1.1&nbsp;&nbsp;</span>Proportion of secretly owned leaseholds and freeholds in London</a></div><div class=\"lev2 toc-item\"><a href=\"#Number-and-estimated-value-of--freeholds-and-leaseholds-owned-by-companies-incorproated-in-secrecy-jurisdictions-by-road\" data-toc-modified-id=\"Number-and-estimated-value-of--freeholds-and-leaseholds-owned-by-companies-incorproated-in-secrecy-jurisdictions-by-road-28\"><span class=\"toc-item-num\">2.8&nbsp;&nbsp;</span>Number and estimated value of  freeholds and leaseholds owned by companies incorproated in secrecy jurisdictions by road</a></div><div class=\"lev2 toc-item\"><a href=\"#Top-10-freeholds-or-leaseholds-purchased-by-companies-incorporated-in-secrecy-jurisdictions-by-price-paid-(not-adjusted-for-inflation)\" data-toc-modified-id=\"Top-10-freeholds-or-leaseholds-purchased-by-companies-incorporated-in-secrecy-jurisdictions-by-price-paid-(not-adjusted-for-inflation)-29\"><span class=\"toc-item-num\">2.9&nbsp;&nbsp;</span>Top 10 freeholds or leaseholds purchased by companies incorporated in secrecy jurisdictions by price paid (not adjusted for inflation)</a></div>"
   ]
  },
  {
   "cell_type": "code",
   "execution_count": 7,
   "metadata": {
    "collapsed": true,
    "hideCode": false,
    "hidePrompt": false
   },
   "outputs": [],
   "source": [
    "import pandas as pd\n",
    "import re\n",
    "import numpy as np\n",
    "import warnings\n",
    "from postal.parser import parse_address\n",
    "warnings.filterwarnings('ignore')\n",
    "\n",
    "\n",
    "def set_columns(df, overseas):\n",
    "    cols = ['Title_Number', 'Tenure', 'Property_Address', 'District',\n",
    "       'County', 'Region', 'Postcode', 'Multiple_Address_Indicator', 'Price_Paid', '1-Proprietor_Name',\n",
    "       '1-Company_Registration', '1-Proprietorship',\n",
    "       '1-Country_Incorporated', '1-Proprietor_Address_1',\n",
    "       '1-Proprietor_Address_2', '1-Proprietor_Address_3', '2-Proprietor_Name',\n",
    "       '2-Company_Registration', '2-Proprietorship',\n",
    "       '2-Country_Incorporated', '2-Proprietor_Address_1',\n",
    "       '2-Proprietor_Address_2', '2-Proprietor_Address_3', '3-Proprietor_Name',\n",
    "       '3-Company_Registration', '3-Proprietorship',\n",
    "       '3-Country_Incorporated', '3-Proprietor_Address_1',\n",
    "       '3-Proprietor_Address_2', '3-Proprietor_Address_3', '4-Proprietor_Name',\n",
    "       '4-Company_Registration', '4-Proprietorship',\n",
    "       '4-Country_Incorporated', '4-Proprietor_Address_1',\n",
    "       '4-Proprietor_Address_2', '4-Proprietor_Address_3',\n",
    "       'Date_Proprietor_Added', 'Additional_Proprietor_Indicator']\n",
    "    if overseas == True:\n",
    "        df.columns = cols\n",
    "    else:\n",
    "        to_remove = ['1-Country_Incorporated', '2-Country_Incorporated', '3-Country_Incorporated', '4-Country_Incorporated']\n",
    "        cols = [x for x in cols if x not in to_remove]\n",
    "        df.columns = cols\n",
    "    return df\n",
    "\n",
    "\n",
    "def remove_last_row(df):\n",
    "    df = df[~df['Title Number'].str.contains('Row Count')]\n",
    "    return df\n",
    "\n",
    "\n",
    "def transform_df(df, overseas):\n",
    "    # Transform df so that there is one proprietor per row. Create stacked version of original table which is better for counts\n",
    "    df = set_columns(df, overseas)\n",
    "    df.set_index(['Title_Number', 'Tenure', 'Property_Address', 'Price_Paid', 'District',\n",
    "       'County', 'Region', 'Postcode', 'Date_Proprietor_Added', 'Additional_Proprietor_Indicator',\n",
    "       'Multiple_Address_Indicator'], inplace=True)\n",
    "    tuples = tuple(df.columns.str.split(\"-\"))\n",
    "    tuples = [x[::-1] for x in tuples]\n",
    "    df.columns = pd.MultiIndex.from_tuples(tuples)\n",
    "    df = df.stack(level = 1)\n",
    "    df = df.reset_index()\n",
    "    df.rename(columns={'level_11': 'Proprietor_Number'}, inplace=True)\n",
    "    return df\n",
    "\n",
    "\n",
    "def normalize_countries(df):\n",
    "    # Normalziation of Country Incorproated field\n",
    "    df['incorporated_normalized'] = df.Country_Incorporated\n",
    "    df.incorporated_normalized = df.incorporated_normalized.str.strip()\n",
    "    df.incorporated_normalized = df.incorporated_normalized.str.upper()\n",
    "    # Read in clean df mapper\n",
    "    clean_country_mapping = pd.read_csv('../data/processed/country_incorporated_clean.csv', index_col='original', squeeze=True)\n",
    "    df.incorporated_normalized = df.incorporated_normalized.map(clean_country_mapping)\n",
    "    return df\n",
    "\n",
    "\n",
    "def add_secrecy_jurisdiction_column(df):\n",
    "    # Load in df on secrecy jurisdictions, normalize and take average of secrecy score from Financial Secrecy Index 2018\n",
    "    secrecy_index = pd.read_csv('../data/processed/financial_secrecy_index_2018.csv')\n",
    "    secrecy_index['normalized_jurisdiction'] = secrecy_index.Jurisdiction.str.upper()\n",
    "    secret_jurisdictions = secrecy_index[secrecy_index['Secrecy Score'] >= 60]['normalized_jurisdiction'].tolist()\n",
    "    # Add in all USA states\n",
    "    df.Country_Incorporated = df.Country_Incorporated.fillna('')\n",
    "    us_secret = df[df.Country_Incorporated.str.contains('U.S.A')].Country_Incorporated.unique().tolist()\n",
    "    secret_jurisdictions.extend(us_secret)\n",
    "    # Add in field for marking if company incorporated in secrecy jurisdiction\n",
    "    df['secrecy_jurisdiction'] = df.incorporated_normalized.isin(secret_jurisdictions)\n",
    "    return df\n",
    "\n",
    "\n",
    "def add_cd_and_ot_columns(df):\n",
    "    # Add in extra field to mark if company incorproated in overseas terrirtory or crown dependency. List of crown dependencies (https://en.wikipedia.org/wiki/Crown_dependencies) and overseas territories (https://en.wikipedia.org/wiki/British_Overseas_Territories)\n",
    "    list_of_cds = [\n",
    "            'JERSEY',\n",
    "            'HERM',\n",
    "            'GUERNSEY',\n",
    "            'ALDERNEY',\n",
    "            'SARK',\n",
    "            'BRECQHOU',\n",
    "            'JERSEY',\n",
    "            'ISLE OF MAN'\n",
    "                  ]\n",
    "    list_of_ots = [\n",
    "            'AKROTIRI AND DHEKELIA',\n",
    "            'ANGUILLA',\n",
    "            'BERMUDA',\n",
    "            'BRITISH ANTARCTIC TERRITORY',\n",
    "            'BRITISH INDIAN OCEAN TERRITORY',\n",
    "            'BRITISH VIRGIN ISLANDS',\n",
    "            'CAYMAN ISLANDS',\n",
    "            'FALKLAND ISLANDS',\n",
    "            'GIBRALTAR',\n",
    "            'MONTSERRAT',\n",
    "            'PITCAIRN, HENDERSON, DUCIE AND OENO ISLANDS',\n",
    "            'ST. HELENA',\n",
    "            'ASCENSION ISLAND',\n",
    "            'TRISTAN DA CUNHA',\n",
    "            'SOUTH GEORGIA AND THE SOUTH SANDWICH ISLANDS',\n",
    "            'TURKS AND CAICOS ISLANDS'\n",
    "                  ]\n",
    "    # Create columns\n",
    "    df['overseas_territory'] = df['incorporated_normalized'].isin(list_of_ots)\n",
    "    df['crown_dependency'] = df['incorporated_normalized'].isin(list_of_cds)\n",
    "    return df\n",
    "\n",
    "\n",
    "def clean_and_transform(df, overseas):\n",
    "    df = remove_last_row(df) # Remove last row which is a count\n",
    "    df = transform_df(df, overseas) # Transform data so that there is one row per proprietor\n",
    "    if overseas == True:\n",
    "        df = normalize_countries(df) # Clean up countries so that they map correctly on to the other datasets e.g. TJN Financial Secrecy Index\n",
    "        df = add_secrecy_jurisdiction_column(df) # Add in boolean field to tell if country is incorporated in a secrecy jurisdiction\n",
    "        df = add_cd_and_ot_columns(df) # Add in boolean fields for incorproation in crown dependenies or overseas territories\n",
    "    return df\n",
    "\n",
    "\n",
    "def lower_bound(x):\n",
    "    no_na = x.dropna()\n",
    "    if len(no_na) < 5:\n",
    "        return 0\n",
    "    else:\n",
    "        return np.percentile(no_na, 25)\n",
    "\n",
    "    \n",
    "def median(x):\n",
    "    no_na = x.dropna()\n",
    "    if len(no_na) < 5:\n",
    "        return 0\n",
    "    else:\n",
    "        return np.median(no_na)\n",
    "\n",
    "    \n",
    "def upper_bound(x):\n",
    "    no_na = x.dropna()\n",
    "    if len(no_na) < 5:\n",
    "        return 0\n",
    "    else:\n",
    "        return np.percentile(no_na, 75)\n",
    "    \n",
    "    \n",
    "def p_parse_address(x):\n",
    "    try:\n",
    "        parsed = parse_address(x)\n",
    "        output_dict = {}\n",
    "        for item in parsed:\n",
    "            output_dict[item[1]] = item[0]\n",
    "        output = pd.Series(output_dict)\n",
    "        return output\n",
    "    except:\n",
    "        return np.nan\n",
    "    "
   ]
  },
  {
   "cell_type": "markdown",
   "metadata": {
    "hideCode": false,
    "hidePrompt": false
   },
   "source": [
    "# Data preparation"
   ]
  },
  {
   "cell_type": "code",
   "execution_count": 8,
   "metadata": {
    "hideCode": false,
    "hidePrompt": false
   },
   "outputs": [],
   "source": [
    "%%capture\n",
    "data = pd.read_csv('../data/raw/OCOD_FULL_2019_01.csv') # Load in Land Registry data accurate as of 1st January 2019\n",
    "data = clean_and_transform(data, True)\n",
    "data = add_secrecy_jurisdiction_column(data) # Add in boolean field to tell if country is incorporated in a secrecy jurisdiction\n",
    "data = add_cd_and_ot_columns(data) # Add in boolean fields for incorproation in crown dependenies or overseas territories"
   ]
  },
  {
   "cell_type": "markdown",
   "metadata": {
    "hideCode": false,
    "hidePrompt": false
   },
   "source": [
    "# Analysis"
   ]
  },
  {
   "cell_type": "markdown",
   "metadata": {
    "hideCode": false,
    "hidePrompt": false
   },
   "source": [
    "## Number of freeholds and leaseholds owned by companies incorporated in secrecy jurisdictions"
   ]
  },
  {
   "cell_type": "code",
   "execution_count": 9,
   "metadata": {
    "hideCode": false,
    "hidePrompt": false
   },
   "outputs": [
    {
     "data": {
      "text/plain": [
       "87820"
      ]
     },
     "execution_count": 9,
     "metadata": {},
     "output_type": "execute_result"
    }
   ],
   "source": [
    "len(data[data.secrecy_jurisdiction == True].Title_Number.unique())"
   ]
  },
  {
   "cell_type": "markdown",
   "metadata": {
    "hideCode": false,
    "hidePrompt": false
   },
   "source": [
    "## Which secrecy jurisdictions are freeholds and leaseholds most commonly purchased with"
   ]
  },
  {
   "cell_type": "code",
   "execution_count": 10,
   "metadata": {
    "hideCode": false,
    "hidePrompt": false
   },
   "outputs": [
    {
     "data": {
      "text/html": [
       "<div>\n",
       "<style scoped>\n",
       "    .dataframe tbody tr th:only-of-type {\n",
       "        vertical-align: middle;\n",
       "    }\n",
       "\n",
       "    .dataframe tbody tr th {\n",
       "        vertical-align: top;\n",
       "    }\n",
       "\n",
       "    .dataframe thead th {\n",
       "        text-align: right;\n",
       "    }\n",
       "</style>\n",
       "<table border=\"1\" class=\"dataframe\">\n",
       "  <thead>\n",
       "    <tr style=\"text-align: right;\">\n",
       "      <th></th>\n",
       "      <th>Title_Number</th>\n",
       "    </tr>\n",
       "    <tr>\n",
       "      <th>incorporated_normalized</th>\n",
       "      <th></th>\n",
       "    </tr>\n",
       "  </thead>\n",
       "  <tbody>\n",
       "    <tr>\n",
       "      <th>BRITISH VIRGIN ISLANDS</th>\n",
       "      <td>22882</td>\n",
       "    </tr>\n",
       "    <tr>\n",
       "      <th>JERSEY</th>\n",
       "      <td>20325</td>\n",
       "    </tr>\n",
       "    <tr>\n",
       "      <th>GUERNSEY</th>\n",
       "      <td>12315</td>\n",
       "    </tr>\n",
       "    <tr>\n",
       "      <th>ISLE OF MAN</th>\n",
       "      <td>10704</td>\n",
       "    </tr>\n",
       "    <tr>\n",
       "      <th>GIBRALTAR</th>\n",
       "      <td>2475</td>\n",
       "    </tr>\n",
       "    <tr>\n",
       "      <th>SINGAPORE</th>\n",
       "      <td>2038</td>\n",
       "    </tr>\n",
       "    <tr>\n",
       "      <th>PANAMA</th>\n",
       "      <td>1640</td>\n",
       "    </tr>\n",
       "    <tr>\n",
       "      <th>NETHERLANDS</th>\n",
       "      <td>1589</td>\n",
       "    </tr>\n",
       "    <tr>\n",
       "      <th>HONG KONG</th>\n",
       "      <td>1537</td>\n",
       "    </tr>\n",
       "    <tr>\n",
       "      <th>SEYCHELLES</th>\n",
       "      <td>1374</td>\n",
       "    </tr>\n",
       "  </tbody>\n",
       "</table>\n",
       "</div>"
      ],
      "text/plain": [
       "                         Title_Number\n",
       "incorporated_normalized              \n",
       "BRITISH VIRGIN ISLANDS          22882\n",
       "JERSEY                          20325\n",
       "GUERNSEY                        12315\n",
       "ISLE OF MAN                     10704\n",
       "GIBRALTAR                        2475\n",
       "SINGAPORE                        2038\n",
       "PANAMA                           1640\n",
       "NETHERLANDS                      1589\n",
       "HONG KONG                        1537\n",
       "SEYCHELLES                       1374"
      ]
     },
     "execution_count": 10,
     "metadata": {},
     "output_type": "execute_result"
    }
   ],
   "source": [
    "temp_df = data[data.secrecy_jurisdiction == True].pivot_table(index='incorporated_normalized', values='Title_Number', aggfunc=lambda x: len(x.unique())).sort_values(by='Title_Number', ascending=False).head(10)\n",
    "temp_df.to_excel('../data/outputs/count_by_jurisdiction.xlsx')\n",
    "temp_df"
   ]
  },
  {
   "cell_type": "markdown",
   "metadata": {
    "hideCode": false,
    "hidePrompt": false
   },
   "source": [
    "## Number of freeholds and leaseholds owned by companies in the overseas territories and crown dependencies"
   ]
  },
  {
   "cell_type": "markdown",
   "metadata": {
    "hideCode": false,
    "hidePrompt": false
   },
   "source": [
    "### Crown dependencies"
   ]
  },
  {
   "cell_type": "code",
   "execution_count": 11,
   "metadata": {
    "hideCode": false,
    "hidePrompt": false
   },
   "outputs": [
    {
     "data": {
      "text/plain": [
       "43387"
      ]
     },
     "execution_count": 11,
     "metadata": {},
     "output_type": "execute_result"
    }
   ],
   "source": [
    "len(data[data.crown_dependency == True].Title_Number.unique())"
   ]
  },
  {
   "cell_type": "code",
   "execution_count": 12,
   "metadata": {
    "hideCode": false,
    "hidePrompt": false
   },
   "outputs": [
    {
     "data": {
      "text/html": [
       "<div>\n",
       "<style scoped>\n",
       "    .dataframe tbody tr th:only-of-type {\n",
       "        vertical-align: middle;\n",
       "    }\n",
       "\n",
       "    .dataframe tbody tr th {\n",
       "        vertical-align: top;\n",
       "    }\n",
       "\n",
       "    .dataframe thead th {\n",
       "        text-align: right;\n",
       "    }\n",
       "</style>\n",
       "<table border=\"1\" class=\"dataframe\">\n",
       "  <thead>\n",
       "    <tr style=\"text-align: right;\">\n",
       "      <th></th>\n",
       "      <th>Title_Number</th>\n",
       "    </tr>\n",
       "    <tr>\n",
       "      <th>incorporated_normalized</th>\n",
       "      <th></th>\n",
       "    </tr>\n",
       "  </thead>\n",
       "  <tbody>\n",
       "    <tr>\n",
       "      <th>JERSEY</th>\n",
       "      <td>20325</td>\n",
       "    </tr>\n",
       "    <tr>\n",
       "      <th>GUERNSEY</th>\n",
       "      <td>12315</td>\n",
       "    </tr>\n",
       "    <tr>\n",
       "      <th>ISLE OF MAN</th>\n",
       "      <td>10704</td>\n",
       "    </tr>\n",
       "    <tr>\n",
       "      <th>ALDERNEY</th>\n",
       "      <td>46</td>\n",
       "    </tr>\n",
       "  </tbody>\n",
       "</table>\n",
       "</div>"
      ],
      "text/plain": [
       "                         Title_Number\n",
       "incorporated_normalized              \n",
       "JERSEY                          20325\n",
       "GUERNSEY                        12315\n",
       "ISLE OF MAN                     10704\n",
       "ALDERNEY                           46"
      ]
     },
     "execution_count": 12,
     "metadata": {},
     "output_type": "execute_result"
    }
   ],
   "source": [
    "data[data.crown_dependency == True].pivot_table(index='incorporated_normalized', values='Title_Number', aggfunc=lambda x: len(x.unique())).sort_values(by='Title_Number', ascending=False)"
   ]
  },
  {
   "cell_type": "markdown",
   "metadata": {
    "hideCode": false,
    "hidePrompt": false
   },
   "source": [
    "### Overseas territories"
   ]
  },
  {
   "cell_type": "code",
   "execution_count": 13,
   "metadata": {
    "hideCode": false,
    "hidePrompt": false
   },
   "outputs": [
    {
     "data": {
      "text/plain": [
       "27897"
      ]
     },
     "execution_count": 13,
     "metadata": {},
     "output_type": "execute_result"
    }
   ],
   "source": [
    "len(data[data.overseas_territory == True].Title_Number.unique())"
   ]
  },
  {
   "cell_type": "code",
   "execution_count": 14,
   "metadata": {
    "hideCode": false,
    "hidePrompt": false
   },
   "outputs": [
    {
     "data": {
      "text/html": [
       "<div>\n",
       "<style scoped>\n",
       "    .dataframe tbody tr th:only-of-type {\n",
       "        vertical-align: middle;\n",
       "    }\n",
       "\n",
       "    .dataframe tbody tr th {\n",
       "        vertical-align: top;\n",
       "    }\n",
       "\n",
       "    .dataframe thead th {\n",
       "        text-align: right;\n",
       "    }\n",
       "</style>\n",
       "<table border=\"1\" class=\"dataframe\">\n",
       "  <thead>\n",
       "    <tr style=\"text-align: right;\">\n",
       "      <th></th>\n",
       "      <th>Title_Number</th>\n",
       "    </tr>\n",
       "    <tr>\n",
       "      <th>incorporated_normalized</th>\n",
       "      <th></th>\n",
       "    </tr>\n",
       "  </thead>\n",
       "  <tbody>\n",
       "    <tr>\n",
       "      <th>BRITISH VIRGIN ISLANDS</th>\n",
       "      <td>22882</td>\n",
       "    </tr>\n",
       "    <tr>\n",
       "      <th>GIBRALTAR</th>\n",
       "      <td>2475</td>\n",
       "    </tr>\n",
       "    <tr>\n",
       "      <th>CAYMAN ISLANDS</th>\n",
       "      <td>1330</td>\n",
       "    </tr>\n",
       "    <tr>\n",
       "      <th>BERMUDA</th>\n",
       "      <td>701</td>\n",
       "    </tr>\n",
       "    <tr>\n",
       "      <th>ANGUILLA</th>\n",
       "      <td>281</td>\n",
       "    </tr>\n",
       "    <tr>\n",
       "      <th>TURKS AND CAICOS ISLANDS</th>\n",
       "      <td>230</td>\n",
       "    </tr>\n",
       "    <tr>\n",
       "      <th>FALKLAND ISLANDS</th>\n",
       "      <td>2</td>\n",
       "    </tr>\n",
       "  </tbody>\n",
       "</table>\n",
       "</div>"
      ],
      "text/plain": [
       "                          Title_Number\n",
       "incorporated_normalized               \n",
       "BRITISH VIRGIN ISLANDS           22882\n",
       "GIBRALTAR                         2475\n",
       "CAYMAN ISLANDS                    1330\n",
       "BERMUDA                            701\n",
       "ANGUILLA                           281\n",
       "TURKS AND CAICOS ISLANDS           230\n",
       "FALKLAND ISLANDS                     2"
      ]
     },
     "execution_count": 14,
     "metadata": {},
     "output_type": "execute_result"
    }
   ],
   "source": [
    "data[data.overseas_territory == True].pivot_table(index='incorporated_normalized', values='Title_Number', aggfunc=lambda x: len(x.unique())).sort_values(by='Title_Number', ascending=False)"
   ]
  },
  {
   "cell_type": "markdown",
   "metadata": {
    "hideCode": false,
    "hidePrompt": false
   },
   "source": [
    "### Either overseas territories or crown dependencies"
   ]
  },
  {
   "cell_type": "code",
   "execution_count": 15,
   "metadata": {
    "hideCode": false,
    "hidePrompt": false
   },
   "outputs": [
    {
     "data": {
      "text/plain": [
       "71250"
      ]
     },
     "execution_count": 15,
     "metadata": {},
     "output_type": "execute_result"
    }
   ],
   "source": [
    "len(data[(data.crown_dependency == True) | (data.overseas_territory == True)].Title_Number.unique())"
   ]
  },
  {
   "cell_type": "markdown",
   "metadata": {
    "hideCode": false,
    "hidePrompt": false
   },
   "source": [
    "## Percentage of secretly owned freeholds or leaseholds owned by company in overseas territory or crown dependency"
   ]
  },
  {
   "cell_type": "code",
   "execution_count": 16,
   "metadata": {
    "hideCode": false,
    "hidePrompt": false
   },
   "outputs": [
    {
     "data": {
      "text/plain": [
       "'81.08%'"
      ]
     },
     "execution_count": 16,
     "metadata": {},
     "output_type": "execute_result"
    }
   ],
   "source": [
    "'{0:.2f}'.format(len(data[((data.crown_dependency == True) | (data.overseas_territory == True)) & (data.secrecy_jurisdiction == True)].Title_Number.unique()) / len(data[data.secrecy_jurisdiction == True].Title_Number.unique()) * 100) + '%'"
   ]
  },
  {
   "cell_type": "markdown",
   "metadata": {
    "hideCode": false,
    "hidePrompt": false
   },
   "source": [
    "## Price paid for leaseholds and properties"
   ]
  },
  {
   "cell_type": "markdown",
   "metadata": {
    "hideCode": false,
    "hidePrompt": false
   },
   "source": [
    "### Proportion of titles with price paid data"
   ]
  },
  {
   "cell_type": "code",
   "execution_count": 17,
   "metadata": {
    "hideCode": false,
    "hidePrompt": false
   },
   "outputs": [
    {
     "data": {
      "text/plain": [
       "'30.62%'"
      ]
     },
     "execution_count": 17,
     "metadata": {},
     "output_type": "execute_result"
    }
   ],
   "source": [
    "str((data.drop_duplicates(subset=['Title_Number']).Price_Paid.count() / len(data.drop_duplicates(subset=['Title_Number'])) * 100).round(2)) + '%'"
   ]
  },
  {
   "cell_type": "markdown",
   "metadata": {
    "hideCode": false,
    "hidePrompt": false
   },
   "source": [
    "### Total rice paid for leaseholds and freeholds owned by companies incorporated in secrecy jurisdictions"
   ]
  },
  {
   "cell_type": "code",
   "execution_count": 18,
   "metadata": {
    "hideCode": false,
    "hidePrompt": false
   },
   "outputs": [
    {
     "data": {
      "text/plain": [
       "55713759222.0"
      ]
     },
     "execution_count": 18,
     "metadata": {},
     "output_type": "execute_result"
    }
   ],
   "source": [
    "data[data.secrecy_jurisdiction == True].drop_duplicates(subset=['Title_Number']).Price_Paid.sum()"
   ]
  },
  {
   "cell_type": "markdown",
   "metadata": {
    "hideCode": false,
    "hidePrompt": false
   },
   "source": [
    "### Price paid for leaseholds and freeholds owned by companies incorporated in a crown dependency or overseas territory (in GBP and using only those titles for which price paid data is available)"
   ]
  },
  {
   "cell_type": "code",
   "execution_count": 19,
   "metadata": {
    "hideCode": false,
    "hidePrompt": false
   },
   "outputs": [
    {
     "data": {
      "text/plain": [
       "48894619012.0"
      ]
     },
     "execution_count": 19,
     "metadata": {},
     "output_type": "execute_result"
    }
   ],
   "source": [
    "data[(data.overseas_territory == True) | (data.crown_dependency == True)].drop_duplicates(subset=['Title_Number']).Price_Paid.sum()"
   ]
  },
  {
   "cell_type": "markdown",
   "metadata": {
    "hideCode": false,
    "hidePrompt": false
   },
   "source": [
    "### Additional working to estimate value and impute misisng data for leaseholds and freeholds owned by companies incorproated in secrecy jurisdictions"
   ]
  },
  {
   "cell_type": "markdown",
   "metadata": {
    "hideCode": false,
    "hidePrompt": false
   },
   "source": [
    "Where price paid data is missing it is infered using the 25th percentile, median and 75th percentile for that tenure in that specific region. All prices paid are adjusted using the [Consumer Price Index](https://www.ons.gov.uk/economy/inflationandpriceindices/datasets/consumerpriceindices). As the data contains both residential and commerical property, the Land Registry's House Price Index cannot be used. Given that property prices in England and Wales have generally risen above the rate of inflation, these can be considered relatively conseervative estimates. More precise estimates could be derived by using some of the commerically available valuation APIs offered by Zoopla and others."
   ]
  },
  {
   "cell_type": "code",
   "execution_count": 20,
   "metadata": {
    "hideCode": false,
    "hidePrompt": false
   },
   "outputs": [
    {
     "name": "stdout",
     "output_type": "stream",
     "text": [
      "Estimate using 25th percentile -> 73348965626.86299\n",
      "Estimate using median -> 97359210273.8534\n",
      "Estimate using 75th percentile -> 178076912129.8883\n"
     ]
    }
   ],
   "source": [
    "data['date_converted'] = pd.to_datetime(data['Date_Proprietor_Added'])\n",
    "data['month-year'] = data.apply(lambda x: str(x.date_converted.month) + '-' + str(x.date_converted.year), axis=1)\n",
    "cpi = pd.read_csv('../data/processed/ons_inflation_time_series.csv', header=None, skiprows=8)\n",
    "cpi.columns = ['time', 'index']\n",
    "cpi['time_converted'] = pd.to_datetime(cpi.time)\n",
    "cpi.index = pd.PeriodIndex(data=cpi['time_converted'], freq='m')\n",
    "cpi['month-year'] = cpi.apply(lambda x: str(x.time_converted.month) + '-' + str(x.time_converted.year), axis=1)\n",
    "cpi['multiple'] = cpi.apply(lambda x: cpi[cpi.time=='2019 JAN']['index'] / x['index'], axis=1)\n",
    "cpi.sort_values(by='multiple', ascending=False, inplace=True)\n",
    "cpi.drop_duplicates(subset=['month-year'], keep='first', inplace=True)\n",
    "idx = pd.period_range(freq='M', start='1801-01', end='2019-01')\n",
    "cpi = cpi.reindex(idx)\n",
    "cpi['multiple'] = cpi['multiple'].ffill()\n",
    "cpi_s = pd.Series(cpi['multiple'])\n",
    "data['price_paid_adjusted'] = data.dropna(subset=['Price_Paid', 'Date_Proprietor_Added'], how='any').apply(lambda x: x.Price_Paid * cpi_s.loc[x['month-year']], axis=1)\n",
    "data['price_paid_adjusted'] = data['price_paid_adjusted'].astype(float)\n",
    "mapper_oc = data.pivot_table(index=['District', 'Tenure'], values='price_paid_adjusted', aggfunc=(median, lower_bound, upper_bound), dropna=False)\n",
    "data['Price_Paid_Filled_O_Lower'] = data.apply(lambda x:  mapper_oc.loc[(x['District'], x['Tenure']), 'lower_bound'] if pd.isnull(x['price_paid_adjusted']) else x['price_paid_adjusted'], axis=1)\n",
    "data['Price_Paid_Filled_O_Median'] = data.apply(lambda x:  mapper_oc.loc[(x['District'], x['Tenure']), 'median'] if pd.isnull(x['price_paid_adjusted']) else x['price_paid_adjusted'], axis=1)\n",
    "data['Price_Paid_Filled_O_Upper'] = data.apply(lambda x:  mapper_oc.loc[(x['District'], x['Tenure']), 'upper_bound'] if pd.isnull(x['price_paid_adjusted']) else x['price_paid_adjusted'], axis=1)\n",
    "print('Estimate using 25th percentile -> ' + str(data[(data.overseas_territory == True) | (data.crown_dependency == True)].drop_duplicates(subset=['Title_Number']).Price_Paid_Filled_O_Lower.sum()))\n",
    "print('Estimate using median -> ' + str(data[(data.overseas_territory == True) | (data.crown_dependency == True)].drop_duplicates(subset=['Title_Number']).Price_Paid_Filled_O_Median.sum()))\n",
    "print('Estimate using 75th percentile -> ' + str(data[(data.overseas_territory == True) | (data.crown_dependency == True)].drop_duplicates(subset=['Title_Number']).Price_Paid_Filled_O_Upper.sum()))"
   ]
  },
  {
   "cell_type": "markdown",
   "metadata": {
    "hideCode": false,
    "hidePrompt": false
   },
   "source": [
    "## Count number of freeholds and leaseholds owned by secret companies by region"
   ]
  },
  {
   "cell_type": "code",
   "execution_count": 21,
   "metadata": {
    "hideCode": false,
    "hidePrompt": false
   },
   "outputs": [
    {
     "data": {
      "text/html": [
       "<div>\n",
       "<style scoped>\n",
       "    .dataframe tbody tr th:only-of-type {\n",
       "        vertical-align: middle;\n",
       "    }\n",
       "\n",
       "    .dataframe tbody tr th {\n",
       "        vertical-align: top;\n",
       "    }\n",
       "\n",
       "    .dataframe thead th {\n",
       "        text-align: right;\n",
       "    }\n",
       "</style>\n",
       "<table border=\"1\" class=\"dataframe\">\n",
       "  <thead>\n",
       "    <tr style=\"text-align: right;\">\n",
       "      <th></th>\n",
       "      <th>region</th>\n",
       "      <th>number_of_properties</th>\n",
       "    </tr>\n",
       "  </thead>\n",
       "  <tbody>\n",
       "    <tr>\n",
       "      <th>0</th>\n",
       "      <td>East Midlands</td>\n",
       "      <td>2207</td>\n",
       "    </tr>\n",
       "    <tr>\n",
       "      <th>1</th>\n",
       "      <td>East of England</td>\n",
       "      <td>3321</td>\n",
       "    </tr>\n",
       "    <tr>\n",
       "      <th>2</th>\n",
       "      <td>London</td>\n",
       "      <td>40100</td>\n",
       "    </tr>\n",
       "    <tr>\n",
       "      <th>3</th>\n",
       "      <td>North East England</td>\n",
       "      <td>2205</td>\n",
       "    </tr>\n",
       "    <tr>\n",
       "      <th>4</th>\n",
       "      <td>North West England</td>\n",
       "      <td>9856</td>\n",
       "    </tr>\n",
       "    <tr>\n",
       "      <th>5</th>\n",
       "      <td>South East England</td>\n",
       "      <td>14189</td>\n",
       "    </tr>\n",
       "    <tr>\n",
       "      <th>6</th>\n",
       "      <td>South West England</td>\n",
       "      <td>4795</td>\n",
       "    </tr>\n",
       "    <tr>\n",
       "      <th>7</th>\n",
       "      <td>Wales</td>\n",
       "      <td>2269</td>\n",
       "    </tr>\n",
       "    <tr>\n",
       "      <th>8</th>\n",
       "      <td>West Midlands</td>\n",
       "      <td>3890</td>\n",
       "    </tr>\n",
       "    <tr>\n",
       "      <th>9</th>\n",
       "      <td>Yorkshire and the Humber</td>\n",
       "      <td>4988</td>\n",
       "    </tr>\n",
       "  </tbody>\n",
       "</table>\n",
       "</div>"
      ],
      "text/plain": [
       "                     region  number_of_properties\n",
       "0             East Midlands                  2207\n",
       "1           East of England                  3321\n",
       "2                    London                 40100\n",
       "3        North East England                  2205\n",
       "4        North West England                  9856\n",
       "5        South East England                 14189\n",
       "6        South West England                  4795\n",
       "7                     Wales                  2269\n",
       "8             West Midlands                  3890\n",
       "9  Yorkshire and the Humber                  4988"
      ]
     },
     "execution_count": 21,
     "metadata": {},
     "output_type": "execute_result"
    }
   ],
   "source": [
    "regional_counts = data[data.secrecy_jurisdiction == True].pivot_table(index='Region', values='Title_Number', aggfunc=lambda x: len(x.unique()))\n",
    "dw_region_mapping = pd.read_csv('../data/processed/dw_mapping_regions_uk.csv')\n",
    "dw_region_mapping = pd.Series(dw_region_mapping.dw_name.values, index=dw_region_mapping.lr_name)\n",
    "regional_counts.reset_index(inplace=True)\n",
    "regional_counts['dw_name'] = regional_counts.Region.map(dw_region_mapping)\n",
    "regional_counts = regional_counts[['dw_name', 'Title_Number']]\n",
    "regional_counts.columns = ['region', 'number_of_properties']\n",
    "regional_counts['region'] = regional_counts.region.str.replace(' & Gibraltar', '')\n",
    "regional_counts"
   ]
  },
  {
   "cell_type": "markdown",
   "metadata": {
    "hideCode": false,
    "hidePrompt": false
   },
   "source": [
    "## Count freeholds and leaseholds owned by companies incorporated in secrecy jurisdictions by district"
   ]
  },
  {
   "cell_type": "code",
   "execution_count": 22,
   "metadata": {
    "hideCode": false,
    "hidePrompt": false
   },
   "outputs": [
    {
     "data": {
      "text/html": [
       "<div>\n",
       "<style scoped>\n",
       "    .dataframe tbody tr th:only-of-type {\n",
       "        vertical-align: middle;\n",
       "    }\n",
       "\n",
       "    .dataframe tbody tr th {\n",
       "        vertical-align: top;\n",
       "    }\n",
       "\n",
       "    .dataframe thead th {\n",
       "        text-align: right;\n",
       "    }\n",
       "</style>\n",
       "<table border=\"1\" class=\"dataframe\">\n",
       "  <thead>\n",
       "    <tr style=\"text-align: right;\">\n",
       "      <th></th>\n",
       "      <th>Number of secret properties</th>\n",
       "    </tr>\n",
       "    <tr>\n",
       "      <th>District</th>\n",
       "      <th></th>\n",
       "    </tr>\n",
       "  </thead>\n",
       "  <tbody>\n",
       "    <tr>\n",
       "      <th>CITY OF WESTMINSTER</th>\n",
       "      <td>10701</td>\n",
       "    </tr>\n",
       "    <tr>\n",
       "      <th>KENSINGTON AND CHELSEA</th>\n",
       "      <td>5729</td>\n",
       "    </tr>\n",
       "    <tr>\n",
       "      <th>CAMDEN</th>\n",
       "      <td>2320</td>\n",
       "    </tr>\n",
       "    <tr>\n",
       "      <th>TOWER HAMLETS</th>\n",
       "      <td>1930</td>\n",
       "    </tr>\n",
       "    <tr>\n",
       "      <th>WANDSWORTH</th>\n",
       "      <td>1869</td>\n",
       "    </tr>\n",
       "    <tr>\n",
       "      <th>LAMBETH</th>\n",
       "      <td>1695</td>\n",
       "    </tr>\n",
       "    <tr>\n",
       "      <th>MANCHESTER</th>\n",
       "      <td>1480</td>\n",
       "    </tr>\n",
       "    <tr>\n",
       "      <th>HAMMERSMITH AND FULHAM</th>\n",
       "      <td>1432</td>\n",
       "    </tr>\n",
       "    <tr>\n",
       "      <th>SOUTHWARK</th>\n",
       "      <td>1327</td>\n",
       "    </tr>\n",
       "    <tr>\n",
       "      <th>LIVERPOOL</th>\n",
       "      <td>1298</td>\n",
       "    </tr>\n",
       "  </tbody>\n",
       "</table>\n",
       "</div>"
      ],
      "text/plain": [
       "                        Number of secret properties\n",
       "District                                           \n",
       "CITY OF WESTMINSTER                           10701\n",
       "KENSINGTON AND CHELSEA                         5729\n",
       "CAMDEN                                         2320\n",
       "TOWER HAMLETS                                  1930\n",
       "WANDSWORTH                                     1869\n",
       "LAMBETH                                        1695\n",
       "MANCHESTER                                     1480\n",
       "HAMMERSMITH AND FULHAM                         1432\n",
       "SOUTHWARK                                      1327\n",
       "LIVERPOOL                                      1298"
      ]
     },
     "execution_count": 22,
     "metadata": {},
     "output_type": "execute_result"
    }
   ],
   "source": [
    "district_count = data[data.secrecy_jurisdiction == True].pivot_table(index='District', values='Title_Number', aggfunc=lambda x: len(x.unique())).sort_values(by='Title_Number', ascending=False)\n",
    "district_count.columns = ['Number of secret properties']\n",
    "district_count.to_excel('../data/outputs/district_counts.xlsx')\n",
    "district_count.head(10)"
   ]
  },
  {
   "cell_type": "markdown",
   "metadata": {
    "hideCode": false,
    "hidePrompt": false
   },
   "source": [
    "### Filter data for only leaseholds and freeholds in Greater London and count by borough"
   ]
  },
  {
   "cell_type": "code",
   "execution_count": 23,
   "metadata": {
    "collapsed": true,
    "hideCode": false,
    "hidePrompt": false
   },
   "outputs": [],
   "source": [
    "london_data = data[data.Region == 'GREATER LONDON']\n",
    "secret_london_data = london_data[london_data.secrecy_jurisdiction == True]\n",
    "secret_borough_count = secret_london_data.pivot_table(index='District',values='Title_Number',aggfunc=lambda x: len(x.unique()))\n",
    "secret_borough_count.columns = ['number_of_secretly_owned_properties']\n",
    "secret_borough_count = secret_borough_count.sort_values(by='number_of_secretly_owned_properties',ascending=False)\n",
    "secret_borough_count.reset_index(inplace=True)\n",
    "secret_borough_count.index = np.arange(1, len(secret_borough_count) + 1)\n",
    "secret_borough_count.reset_index(inplace=True)\n",
    "secret_borough_count.columns = ['rank','borough','number_of_secretly_owned_properties']\n",
    "ordinal_map = pd.read_csv('../data/processed/cardinal_numbers_and_ordinals_chart.csv')\n",
    "ordinal_map.cardinal_number = ordinal_map['cardinal_number'].astype(int)\n",
    "ordinal_map = pd.Series(ordinal_map['ordinal_word'].values,index=ordinal_map['cardinal_number'])\n",
    "secret_borough_count['ordinal'] = secret_borough_count['rank'].map(ordinal_map).str.lower()"
   ]
  },
  {
   "cell_type": "markdown",
   "metadata": {
    "hideCode": false,
    "hidePrompt": false
   },
   "source": [
    "#### Proportion of secretly owned leaseholds and freeholds in London"
   ]
  },
  {
   "cell_type": "code",
   "execution_count": 24,
   "metadata": {
    "hideCode": false,
    "hidePrompt": false
   },
   "outputs": [
    {
     "data": {
      "text/plain": [
       "'45.66%'"
      ]
     },
     "execution_count": 24,
     "metadata": {},
     "output_type": "execute_result"
    }
   ],
   "source": [
    "str(round((len(secret_london_data.Title_Number.unique()) / len(data[data.secrecy_jurisdiction == True].Title_Number.unique())* 100), 2)) + '%'"
   ]
  },
  {
   "cell_type": "markdown",
   "metadata": {
    "hideCode": false,
    "hidePrompt": false
   },
   "source": [
    "## Number and estimated value of  freeholds and leaseholds owned by companies incorproated in secrecy jurisdictions by road"
   ]
  },
  {
   "cell_type": "markdown",
   "metadata": {
    "hideCode": false,
    "hidePrompt": false
   },
   "source": [
    "As the original data does not contain a separate field for road, we have had to parse out the roads using a special tool. This is unlikely to have 100% accuracy and some of these numbers may be undercounts. Here we the estimated value using the techniques described above."
   ]
  },
  {
   "cell_type": "code",
   "execution_count": 25,
   "metadata": {
    "collapsed": true,
    "hideCode": false,
    "hidePrompt": false
   },
   "outputs": [],
   "source": [
    "data = pd.concat([data, data.Property_Address.dropna().apply(lambda x: p_parse_address(x))], axis=1)"
   ]
  },
  {
   "cell_type": "code",
   "execution_count": 26,
   "metadata": {
    "hideCode": false,
    "hidePrompt": false
   },
   "outputs": [
    {
     "data": {
      "text/html": [
       "<div>\n",
       "<style scoped>\n",
       "    .dataframe tbody tr th:only-of-type {\n",
       "        vertical-align: middle;\n",
       "    }\n",
       "\n",
       "    .dataframe tbody tr th {\n",
       "        vertical-align: top;\n",
       "    }\n",
       "\n",
       "    .dataframe thead th {\n",
       "        text-align: right;\n",
       "    }\n",
       "</style>\n",
       "<table border=\"1\" class=\"dataframe\">\n",
       "  <thead>\n",
       "    <tr style=\"text-align: right;\">\n",
       "      <th></th>\n",
       "      <th></th>\n",
       "      <th>number_properties</th>\n",
       "      <th>estimated_value</th>\n",
       "    </tr>\n",
       "    <tr>\n",
       "      <th>road</th>\n",
       "      <th>District</th>\n",
       "      <th></th>\n",
       "      <th></th>\n",
       "    </tr>\n",
       "  </thead>\n",
       "  <tbody>\n",
       "    <tr>\n",
       "      <th>knightsbridge</th>\n",
       "      <th>CITY OF WESTMINSTER</th>\n",
       "      <td>229</td>\n",
       "      <td>727013105.0</td>\n",
       "    </tr>\n",
       "    <tr>\n",
       "      <th>saffron hill</th>\n",
       "      <th>CAMDEN</th>\n",
       "      <td>8</td>\n",
       "      <td>720760141.0</td>\n",
       "    </tr>\n",
       "    <tr>\n",
       "      <th>high street</th>\n",
       "      <th>BROMLEY</th>\n",
       "      <td>59</td>\n",
       "      <td>580548014.0</td>\n",
       "    </tr>\n",
       "    <tr>\n",
       "      <th>southwark street</th>\n",
       "      <th>SOUTHWARK</th>\n",
       "      <td>21</td>\n",
       "      <td>578928431.0</td>\n",
       "    </tr>\n",
       "    <tr>\n",
       "      <th>sherwood court thurston road</th>\n",
       "      <th>LEWISHAM</th>\n",
       "      <td>11</td>\n",
       "      <td>499431014.0</td>\n",
       "    </tr>\n",
       "    <tr>\n",
       "      <th>concorde village chertsey road</th>\n",
       "      <th>HOUNSLOW</th>\n",
       "      <td>557</td>\n",
       "      <td>468894236.0</td>\n",
       "    </tr>\n",
       "    <tr>\n",
       "      <th>leadenhall street</th>\n",
       "      <th>CITY OF LONDON</th>\n",
       "      <td>16</td>\n",
       "      <td>456256253.0</td>\n",
       "    </tr>\n",
       "    <tr>\n",
       "      <th>broadway</th>\n",
       "      <th>CITY OF WESTMINSTER</th>\n",
       "      <td>4</td>\n",
       "      <td>447068382.0</td>\n",
       "    </tr>\n",
       "    <tr>\n",
       "      <th>hammersmith road</th>\n",
       "      <th>HAMMERSMITH AND FULHAM</th>\n",
       "      <td>21</td>\n",
       "      <td>393106737.0</td>\n",
       "    </tr>\n",
       "    <tr>\n",
       "      <th>colchester road</th>\n",
       "      <th>COLCHESTER</th>\n",
       "      <td>656</td>\n",
       "      <td>391008837.0</td>\n",
       "    </tr>\n",
       "    <tr>\n",
       "      <th>buckingham palace road</th>\n",
       "      <th>CITY OF WESTMINSTER</th>\n",
       "      <td>50</td>\n",
       "      <td>349356982.0</td>\n",
       "    </tr>\n",
       "    <tr>\n",
       "      <th>churchyard row</th>\n",
       "      <th>SOUTHWARK</th>\n",
       "      <td>2</td>\n",
       "      <td>325118010.0</td>\n",
       "    </tr>\n",
       "    <tr>\n",
       "      <th>old broad street</th>\n",
       "      <th>CITY OF LONDON</th>\n",
       "      <td>23</td>\n",
       "      <td>310256381.0</td>\n",
       "    </tr>\n",
       "    <tr>\n",
       "      <th>elephant road</th>\n",
       "      <th>SOUTHWARK</th>\n",
       "      <td>265</td>\n",
       "      <td>304412979.0</td>\n",
       "    </tr>\n",
       "    <tr>\n",
       "      <th>canada square</th>\n",
       "      <th>TOWER HAMLETS</th>\n",
       "      <td>31</td>\n",
       "      <td>295687495.0</td>\n",
       "    </tr>\n",
       "    <tr>\n",
       "      <th>oxford street</th>\n",
       "      <th>CITY OF WESTMINSTER</th>\n",
       "      <td>44</td>\n",
       "      <td>294655401.0</td>\n",
       "    </tr>\n",
       "    <tr>\n",
       "      <th>broadway</th>\n",
       "      <th>NEWHAM</th>\n",
       "      <td>8</td>\n",
       "      <td>294470125.0</td>\n",
       "    </tr>\n",
       "    <tr>\n",
       "      <th>new fetter lane</th>\n",
       "      <th>CITY OF LONDON</th>\n",
       "      <td>8</td>\n",
       "      <td>288607311.0</td>\n",
       "    </tr>\n",
       "    <tr>\n",
       "      <th>great portland street</th>\n",
       "      <th>CITY OF WESTMINSTER</th>\n",
       "      <td>68</td>\n",
       "      <td>285238608.0</td>\n",
       "    </tr>\n",
       "    <tr>\n",
       "      <th>houndsditch</th>\n",
       "      <th>CITY OF LONDON</th>\n",
       "      <td>8</td>\n",
       "      <td>277364656.0</td>\n",
       "    </tr>\n",
       "    <tr>\n",
       "      <th>fenchurch street london and 70 gracechurch street</th>\n",
       "      <th>CITY OF LONDON</th>\n",
       "      <td>1</td>\n",
       "      <td>275562438.0</td>\n",
       "    </tr>\n",
       "    <tr>\n",
       "      <th>new bond street</th>\n",
       "      <th>CITY OF WESTMINSTER</th>\n",
       "      <td>35</td>\n",
       "      <td>273177196.0</td>\n",
       "    </tr>\n",
       "    <tr>\n",
       "      <th>churchill place</th>\n",
       "      <th>TOWER HAMLETS</th>\n",
       "      <td>5</td>\n",
       "      <td>271731269.0</td>\n",
       "    </tr>\n",
       "    <tr>\n",
       "      <th>gresham street</th>\n",
       "      <th>CITY OF LONDON</th>\n",
       "      <td>8</td>\n",
       "      <td>270115992.0</td>\n",
       "    </tr>\n",
       "    <tr>\n",
       "      <th>fenchurch street</th>\n",
       "      <th>CITY OF LONDON</th>\n",
       "      <td>23</td>\n",
       "      <td>264520040.0</td>\n",
       "    </tr>\n",
       "    <tr>\n",
       "      <th>park plaza westminster bridge 200 westminster bridge road</th>\n",
       "      <th>LAMBETH</th>\n",
       "      <td>571</td>\n",
       "      <td>259946663.0</td>\n",
       "    </tr>\n",
       "    <tr>\n",
       "      <th>union court</th>\n",
       "      <th>CITY OF LONDON</th>\n",
       "      <td>1</td>\n",
       "      <td>258979300.0</td>\n",
       "    </tr>\n",
       "    <tr>\n",
       "      <th>hawksbill way</th>\n",
       "      <th>CITY OF PETERBOROUGH</th>\n",
       "      <td>127</td>\n",
       "      <td>258875532.0</td>\n",
       "    </tr>\n",
       "    <tr>\n",
       "      <th>grosvenor street</th>\n",
       "      <th>CITY OF WESTMINSTER</th>\n",
       "      <td>23</td>\n",
       "      <td>230036049.0</td>\n",
       "    </tr>\n",
       "    <tr>\n",
       "      <th>wandsworth road</th>\n",
       "      <th>LAMBETH</th>\n",
       "      <td>84</td>\n",
       "      <td>227262036.0</td>\n",
       "    </tr>\n",
       "    <tr>\n",
       "      <th>lowndes square</th>\n",
       "      <th>CITY OF WESTMINSTER</th>\n",
       "      <td>67</td>\n",
       "      <td>226700817.0</td>\n",
       "    </tr>\n",
       "    <tr>\n",
       "      <th>queen street</th>\n",
       "      <th>CITY OF LONDON</th>\n",
       "      <td>12</td>\n",
       "      <td>223541582.0</td>\n",
       "    </tr>\n",
       "    <tr>\n",
       "      <th>cadogan square</th>\n",
       "      <th>KENSINGTON AND CHELSEA</th>\n",
       "      <td>134</td>\n",
       "      <td>220734484.0</td>\n",
       "    </tr>\n",
       "    <tr>\n",
       "      <th>park street</th>\n",
       "      <th>CITY OF WESTMINSTER</th>\n",
       "      <td>118</td>\n",
       "      <td>216611521.0</td>\n",
       "    </tr>\n",
       "    <tr>\n",
       "      <th>princes gate</th>\n",
       "      <th>CITY OF WESTMINSTER</th>\n",
       "      <td>55</td>\n",
       "      <td>214799734.0</td>\n",
       "    </tr>\n",
       "    <tr>\n",
       "      <th>fleet street</th>\n",
       "      <th>CITY OF LONDON</th>\n",
       "      <td>17</td>\n",
       "      <td>208942989.0</td>\n",
       "    </tr>\n",
       "    <tr>\n",
       "      <th>eaton square</th>\n",
       "      <th>CITY OF WESTMINSTER</th>\n",
       "      <td>82</td>\n",
       "      <td>207273188.0</td>\n",
       "    </tr>\n",
       "    <tr>\n",
       "      <th>moorgate</th>\n",
       "      <th>CITY OF LONDON</th>\n",
       "      <td>13</td>\n",
       "      <td>204595810.0</td>\n",
       "    </tr>\n",
       "    <tr>\n",
       "      <th>bull street</th>\n",
       "      <th>BIRMINGHAM</th>\n",
       "      <td>2</td>\n",
       "      <td>201947416.0</td>\n",
       "    </tr>\n",
       "    <tr>\n",
       "      <th>lexham gardens</th>\n",
       "      <th>KENSINGTON AND CHELSEA</th>\n",
       "      <td>46</td>\n",
       "      <td>201435027.0</td>\n",
       "    </tr>\n",
       "  </tbody>\n",
       "</table>\n",
       "</div>"
      ],
      "text/plain": [
       "                                                                           number_properties  \\\n",
       "road                                               District                                    \n",
       "knightsbridge                                      CITY OF WESTMINSTER                   229   \n",
       "saffron hill                                       CAMDEN                                  8   \n",
       "high street                                        BROMLEY                                59   \n",
       "southwark street                                   SOUTHWARK                              21   \n",
       "sherwood court thurston road                       LEWISHAM                               11   \n",
       "concorde village chertsey road                     HOUNSLOW                              557   \n",
       "leadenhall street                                  CITY OF LONDON                         16   \n",
       "broadway                                           CITY OF WESTMINSTER                     4   \n",
       "hammersmith road                                   HAMMERSMITH AND FULHAM                 21   \n",
       "colchester road                                    COLCHESTER                            656   \n",
       "buckingham palace road                             CITY OF WESTMINSTER                    50   \n",
       "churchyard row                                     SOUTHWARK                               2   \n",
       "old broad street                                   CITY OF LONDON                         23   \n",
       "elephant road                                      SOUTHWARK                             265   \n",
       "canada square                                      TOWER HAMLETS                          31   \n",
       "oxford street                                      CITY OF WESTMINSTER                    44   \n",
       "broadway                                           NEWHAM                                  8   \n",
       "new fetter lane                                    CITY OF LONDON                          8   \n",
       "great portland street                              CITY OF WESTMINSTER                    68   \n",
       "houndsditch                                        CITY OF LONDON                          8   \n",
       "fenchurch street london and 70 gracechurch street  CITY OF LONDON                          1   \n",
       "new bond street                                    CITY OF WESTMINSTER                    35   \n",
       "churchill place                                    TOWER HAMLETS                           5   \n",
       "gresham street                                     CITY OF LONDON                          8   \n",
       "fenchurch street                                   CITY OF LONDON                         23   \n",
       "park plaza westminster bridge 200 westminster b... LAMBETH                               571   \n",
       "union court                                        CITY OF LONDON                          1   \n",
       "hawksbill way                                      CITY OF PETERBOROUGH                  127   \n",
       "grosvenor street                                   CITY OF WESTMINSTER                    23   \n",
       "wandsworth road                                    LAMBETH                                84   \n",
       "lowndes square                                     CITY OF WESTMINSTER                    67   \n",
       "queen street                                       CITY OF LONDON                         12   \n",
       "cadogan square                                     KENSINGTON AND CHELSEA                134   \n",
       "park street                                        CITY OF WESTMINSTER                   118   \n",
       "princes gate                                       CITY OF WESTMINSTER                    55   \n",
       "fleet street                                       CITY OF LONDON                         17   \n",
       "eaton square                                       CITY OF WESTMINSTER                    82   \n",
       "moorgate                                           CITY OF LONDON                         13   \n",
       "bull street                                        BIRMINGHAM                              2   \n",
       "lexham gardens                                     KENSINGTON AND CHELSEA                 46   \n",
       "\n",
       "                                                                           estimated_value  \n",
       "road                                               District                                 \n",
       "knightsbridge                                      CITY OF WESTMINSTER         727013105.0  \n",
       "saffron hill                                       CAMDEN                      720760141.0  \n",
       "high street                                        BROMLEY                     580548014.0  \n",
       "southwark street                                   SOUTHWARK                   578928431.0  \n",
       "sherwood court thurston road                       LEWISHAM                    499431014.0  \n",
       "concorde village chertsey road                     HOUNSLOW                    468894236.0  \n",
       "leadenhall street                                  CITY OF LONDON              456256253.0  \n",
       "broadway                                           CITY OF WESTMINSTER         447068382.0  \n",
       "hammersmith road                                   HAMMERSMITH AND FULHAM      393106737.0  \n",
       "colchester road                                    COLCHESTER                  391008837.0  \n",
       "buckingham palace road                             CITY OF WESTMINSTER         349356982.0  \n",
       "churchyard row                                     SOUTHWARK                   325118010.0  \n",
       "old broad street                                   CITY OF LONDON              310256381.0  \n",
       "elephant road                                      SOUTHWARK                   304412979.0  \n",
       "canada square                                      TOWER HAMLETS               295687495.0  \n",
       "oxford street                                      CITY OF WESTMINSTER         294655401.0  \n",
       "broadway                                           NEWHAM                      294470125.0  \n",
       "new fetter lane                                    CITY OF LONDON              288607311.0  \n",
       "great portland street                              CITY OF WESTMINSTER         285238608.0  \n",
       "houndsditch                                        CITY OF LONDON              277364656.0  \n",
       "fenchurch street london and 70 gracechurch street  CITY OF LONDON              275562438.0  \n",
       "new bond street                                    CITY OF WESTMINSTER         273177196.0  \n",
       "churchill place                                    TOWER HAMLETS               271731269.0  \n",
       "gresham street                                     CITY OF LONDON              270115992.0  \n",
       "fenchurch street                                   CITY OF LONDON              264520040.0  \n",
       "park plaza westminster bridge 200 westminster b... LAMBETH                     259946663.0  \n",
       "union court                                        CITY OF LONDON              258979300.0  \n",
       "hawksbill way                                      CITY OF PETERBOROUGH        258875532.0  \n",
       "grosvenor street                                   CITY OF WESTMINSTER         230036049.0  \n",
       "wandsworth road                                    LAMBETH                     227262036.0  \n",
       "lowndes square                                     CITY OF WESTMINSTER         226700817.0  \n",
       "queen street                                       CITY OF LONDON              223541582.0  \n",
       "cadogan square                                     KENSINGTON AND CHELSEA      220734484.0  \n",
       "park street                                        CITY OF WESTMINSTER         216611521.0  \n",
       "princes gate                                       CITY OF WESTMINSTER         214799734.0  \n",
       "fleet street                                       CITY OF LONDON              208942989.0  \n",
       "eaton square                                       CITY OF WESTMINSTER         207273188.0  \n",
       "moorgate                                           CITY OF LONDON              204595810.0  \n",
       "bull street                                        BIRMINGHAM                  201947416.0  \n",
       "lexham gardens                                     KENSINGTON AND CHELSEA      201435027.0  "
      ]
     },
     "execution_count": 26,
     "metadata": {},
     "output_type": "execute_result"
    }
   ],
   "source": [
    "df_1 = data[data.secrecy_jurisdiction == True].pivot_table(index=['road', 'District'], values='Title_Number', aggfunc=lambda x: len(x.unique())).sort_values(by='Title_Number', ascending=False)\n",
    "df_2 = data[data.secrecy_jurisdiction == True].pivot_table(index=['road', 'District'], values='Price_Paid_Filled_O_Median', aggfunc=np.sum).sort_values(by='Price_Paid_Filled_O_Median', ascending=False).round()\n",
    "output_df = pd.merge(left=df_1, right=df_2, left_index=True, right_index=True).sort_values(by='Price_Paid_Filled_O_Median', ascending=False)\n",
    "output_df.columns = ['number_properties', 'estimated_value']\n",
    "output_df.head(40)"
   ]
  },
  {
   "cell_type": "markdown",
   "metadata": {
    "hideCode": false,
    "hidePrompt": false
   },
   "source": [
    "## Top 10 freeholds or leaseholds purchased by companies incorporated in secrecy jurisdictions by price paid (not adjusted for inflation)"
   ]
  },
  {
   "cell_type": "code",
   "execution_count": 27,
   "metadata": {
    "hideCode": false,
    "hidePrompt": false
   },
   "outputs": [
    {
     "data": {
      "text/html": [
       "<div>\n",
       "<style scoped>\n",
       "    .dataframe tbody tr th:only-of-type {\n",
       "        vertical-align: middle;\n",
       "    }\n",
       "\n",
       "    .dataframe tbody tr th {\n",
       "        vertical-align: top;\n",
       "    }\n",
       "\n",
       "    .dataframe thead th {\n",
       "        text-align: right;\n",
       "    }\n",
       "</style>\n",
       "<table border=\"1\" class=\"dataframe\">\n",
       "  <thead>\n",
       "    <tr style=\"text-align: right;\">\n",
       "      <th></th>\n",
       "      <th>Title_Number</th>\n",
       "      <th>Property_Address</th>\n",
       "      <th>Postcode</th>\n",
       "      <th>owner_names</th>\n",
       "      <th>incorporated_normalized</th>\n",
       "      <th>Price_Paid</th>\n",
       "      <th>Date_Proprietor_Added</th>\n",
       "    </tr>\n",
       "    <tr>\n",
       "      <th>Title_Number</th>\n",
       "      <th></th>\n",
       "      <th></th>\n",
       "      <th></th>\n",
       "      <th></th>\n",
       "      <th></th>\n",
       "      <th></th>\n",
       "      <th></th>\n",
       "    </tr>\n",
       "  </thead>\n",
       "  <tbody>\n",
       "    <tr>\n",
       "      <th>LN230418</th>\n",
       "      <td>LN230418</td>\n",
       "      <td>New Scotland Yard, 8-10 Broadway, London (SW1H...</td>\n",
       "      <td>SW1H 0GB</td>\n",
       "      <td>BL DEVELOPMENT LIMITED</td>\n",
       "      <td>JERSEY</td>\n",
       "      <td>370000000.0</td>\n",
       "      <td>15-11-2016</td>\n",
       "    </tr>\n",
       "    <tr>\n",
       "      <th>BGL31510</th>\n",
       "      <td>BGL31510</td>\n",
       "      <td>Olympia Exhibition Halls, Hammersmith Road, Lo...</td>\n",
       "      <td>W14 8UX</td>\n",
       "      <td>OLYMPUS PROPERTY HOLDING LTD</td>\n",
       "      <td>JERSEY</td>\n",
       "      <td>280000000.0</td>\n",
       "      <td>04-05-2017</td>\n",
       "    </tr>\n",
       "    <tr>\n",
       "      <th>NGL748318</th>\n",
       "      <td>NGL748318</td>\n",
       "      <td>168 Fenchurch Street, London and 70 Gracechurc...</td>\n",
       "      <td>NaN</td>\n",
       "      <td>ADVANCED IDEA HOLDINGS LIMITED</td>\n",
       "      <td>BRITISH VIRGIN ISLANDS</td>\n",
       "      <td>270798594.0</td>\n",
       "      <td>12-10-2017</td>\n",
       "    </tr>\n",
       "    <tr>\n",
       "      <th>LN113410</th>\n",
       "      <td>LN113410</td>\n",
       "      <td>33 to 41 Old Broad Street and 1 to 6 Union Cou...</td>\n",
       "      <td>EC2N 1DY</td>\n",
       "      <td>SEA PROFIT HOLDINGS LIMITED</td>\n",
       "      <td>BRITISH VIRGIN ISLANDS</td>\n",
       "      <td>260000000.0</td>\n",
       "      <td>09-01-2018</td>\n",
       "    </tr>\n",
       "    <tr>\n",
       "      <th>EGL567818</th>\n",
       "      <td>EGL567818</td>\n",
       "      <td>Parcel BP2, 5 Churchill Place, Canary Wharf, L...</td>\n",
       "      <td>NaN</td>\n",
       "      <td>SPENCER HOLDINGS LIMITED</td>\n",
       "      <td>BERMUDA</td>\n",
       "      <td>257240000.0</td>\n",
       "      <td>15-03-2017</td>\n",
       "    </tr>\n",
       "    <tr>\n",
       "      <th>NGL690048</th>\n",
       "      <td>NGL690048</td>\n",
       "      <td>123 Buckingham Palace Road, London (SW1W 9SR)</td>\n",
       "      <td>SW1W 9SR</td>\n",
       "      <td>GC 123 BPR LTD</td>\n",
       "      <td>BRITISH VIRGIN ISLANDS</td>\n",
       "      <td>215399999.0</td>\n",
       "      <td>07-07-2017</td>\n",
       "    </tr>\n",
       "    <tr>\n",
       "      <th>TGL298368</th>\n",
       "      <td>TGL298368</td>\n",
       "      <td>Ground Floor and Basement, 90 Southwark Street...</td>\n",
       "      <td>SE1 0TF</td>\n",
       "      <td>RREEF BANKSIDE III LIMITED</td>\n",
       "      <td>JERSEY</td>\n",
       "      <td>180364651.0</td>\n",
       "      <td>13-07-2017</td>\n",
       "    </tr>\n",
       "    <tr>\n",
       "      <th>TGL270288</th>\n",
       "      <td>TGL270288</td>\n",
       "      <td>90 Southwark Street, London (SE1 0TF)</td>\n",
       "      <td>SE1 0TF</td>\n",
       "      <td>RREEF BANKSIDE III LIMITED</td>\n",
       "      <td>JERSEY</td>\n",
       "      <td>180364651.0</td>\n",
       "      <td>13-07-2017</td>\n",
       "    </tr>\n",
       "    <tr>\n",
       "      <th>WR150339</th>\n",
       "      <td>WR150339</td>\n",
       "      <td>Ledbury Court, Hill View Road, Malvern (WR14 1BH)</td>\n",
       "      <td>WR14 1BH</td>\n",
       "      <td>ABACUS LAND 4 LIMITED</td>\n",
       "      <td>GUERNSEY</td>\n",
       "      <td>168076986.0</td>\n",
       "      <td>04-05-2018</td>\n",
       "    </tr>\n",
       "    <tr>\n",
       "      <th>WR150340</th>\n",
       "      <td>WR150340</td>\n",
       "      <td>Stirling Court, 54 Bracken Way, Malvern (WR14 ...</td>\n",
       "      <td>WR14 1JH</td>\n",
       "      <td>ABACUS LAND 4 LIMITED</td>\n",
       "      <td>GUERNSEY</td>\n",
       "      <td>168076986.0</td>\n",
       "      <td>04-05-2018</td>\n",
       "    </tr>\n",
       "  </tbody>\n",
       "</table>\n",
       "</div>"
      ],
      "text/plain": [
       "             Title_Number                                   Property_Address  \\\n",
       "Title_Number                                                                   \n",
       "LN230418         LN230418  New Scotland Yard, 8-10 Broadway, London (SW1H...   \n",
       "BGL31510         BGL31510  Olympia Exhibition Halls, Hammersmith Road, Lo...   \n",
       "NGL748318       NGL748318  168 Fenchurch Street, London and 70 Gracechurc...   \n",
       "LN113410         LN113410  33 to 41 Old Broad Street and 1 to 6 Union Cou...   \n",
       "EGL567818       EGL567818  Parcel BP2, 5 Churchill Place, Canary Wharf, L...   \n",
       "NGL690048       NGL690048      123 Buckingham Palace Road, London (SW1W 9SR)   \n",
       "TGL298368       TGL298368  Ground Floor and Basement, 90 Southwark Street...   \n",
       "TGL270288       TGL270288              90 Southwark Street, London (SE1 0TF)   \n",
       "WR150339         WR150339  Ledbury Court, Hill View Road, Malvern (WR14 1BH)   \n",
       "WR150340         WR150340  Stirling Court, 54 Bracken Way, Malvern (WR14 ...   \n",
       "\n",
       "              Postcode                     owner_names  \\\n",
       "Title_Number                                             \n",
       "LN230418      SW1H 0GB          BL DEVELOPMENT LIMITED   \n",
       "BGL31510       W14 8UX    OLYMPUS PROPERTY HOLDING LTD   \n",
       "NGL748318          NaN  ADVANCED IDEA HOLDINGS LIMITED   \n",
       "LN113410      EC2N 1DY     SEA PROFIT HOLDINGS LIMITED   \n",
       "EGL567818          NaN        SPENCER HOLDINGS LIMITED   \n",
       "NGL690048     SW1W 9SR                  GC 123 BPR LTD   \n",
       "TGL298368      SE1 0TF      RREEF BANKSIDE III LIMITED   \n",
       "TGL270288      SE1 0TF      RREEF BANKSIDE III LIMITED   \n",
       "WR150339      WR14 1BH           ABACUS LAND 4 LIMITED   \n",
       "WR150340      WR14 1JH           ABACUS LAND 4 LIMITED   \n",
       "\n",
       "             incorporated_normalized   Price_Paid Date_Proprietor_Added  \n",
       "Title_Number                                                             \n",
       "LN230418                      JERSEY  370000000.0            15-11-2016  \n",
       "BGL31510                      JERSEY  280000000.0            04-05-2017  \n",
       "NGL748318     BRITISH VIRGIN ISLANDS  270798594.0            12-10-2017  \n",
       "LN113410      BRITISH VIRGIN ISLANDS  260000000.0            09-01-2018  \n",
       "EGL567818                    BERMUDA  257240000.0            15-03-2017  \n",
       "NGL690048     BRITISH VIRGIN ISLANDS  215399999.0            07-07-2017  \n",
       "TGL298368                     JERSEY  180364651.0            13-07-2017  \n",
       "TGL270288                     JERSEY  180364651.0            13-07-2017  \n",
       "WR150339                    GUERNSEY  168076986.0            04-05-2018  \n",
       "WR150340                    GUERNSEY  168076986.0            04-05-2018  "
      ]
     },
     "execution_count": 27,
     "metadata": {},
     "output_type": "execute_result"
    }
   ],
   "source": [
    "# Add in field to capture all owner names\n",
    "temp_df = data[data.secrecy_jurisdiction == True].copy()\n",
    "temp_df.set_index('Title_Number', inplace=True, drop=False)\n",
    "temp_df['owner_names'] = temp_df[['Title_Number', 'Proprietor_Name']].groupby(['Title_Number']).agg(lambda x: ', '.join(x) if len(x) > 0 else x)\n",
    "temp_df['jurisidctions_incorporated'] = temp_df[['Title_Number', 'incorporated_normalized']].groupby(['Title_Number']).agg(lambda x: ', '.join(x) if len(x) > 0 else x)\n",
    "df_1 = temp_df[['Title_Number', 'Property_Address', 'Postcode', 'owner_names', 'incorporated_normalized','Price_Paid', 'Date_Proprietor_Added']].drop_duplicates(subset=['Title_Number'])\n",
    "output_df = df_1.sort_values(by='Price_Paid', ascending=False)\n",
    "output_df.head(50).to_excel('../data/outputs/top_50_freeholds_leaseholds_secrecy_jurisdictions.xlsx', index=False)\n",
    "output_df.head(10)"
   ]
  },
  {
   "cell_type": "code",
   "execution_count": 28,
   "metadata": {
    "collapsed": true,
    "hideCode": false,
    "hidePrompt": false
   },
   "outputs": [],
   "source": [
    "##Output full data frame\n",
    "data.to_excel('../data/processed/full_stacked_cleaned_data.xlsx')"
   ]
  }
 ],
 "metadata": {
  "hide_code_all_hidden": false,
  "kernelspec": {
   "display_name": "Python [conda root]",
   "language": "python",
   "name": "conda-root-py"
  },
  "toc": {
   "colors": {
    "hover_highlight": "#DAA520",
    "navigate_num": "#000000",
    "navigate_text": "#333333",
    "running_highlight": "#FF0000",
    "selected_highlight": "#FFD700",
    "sidebar_border": "#EEEEEE",
    "wrapper_background": "#FFFFFF"
   },
   "moveMenuLeft": true,
   "nav_menu": {
    "height": "12px",
    "width": "252px"
   },
   "navigate_menu": true,
   "number_sections": true,
   "sideBar": true,
   "threshold": 4,
   "toc_cell": true,
   "toc_section_display": "block",
   "toc_window_display": true,
   "widenNotebook": false
  }
 },
 "nbformat": 4,
 "nbformat_minor": 2
}
